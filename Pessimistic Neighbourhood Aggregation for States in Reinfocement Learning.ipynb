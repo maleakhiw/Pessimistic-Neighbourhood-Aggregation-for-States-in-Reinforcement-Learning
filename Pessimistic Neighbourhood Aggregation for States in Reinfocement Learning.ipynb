{
 "cells": [
  {
   "cell_type": "markdown",
   "metadata": {},
   "source": [
    "## Mountain Car Environment"
   ]
  },
  {
   "cell_type": "code",
   "execution_count": 58,
   "metadata": {
    "collapsed": true
   },
   "outputs": [],
   "source": [
    "import math\n",
    "class MountainCarEnvironment:\n",
    "    '''Implementation of Sutton & Barto (1998) Mountain Car Problem environment.'''\n",
    "    velocity_boundaries = (-0.07, 0.07)\n",
    "    position_boundaries = (-1.2, 0.6)  \n",
    "   \n",
    "    # Constructor for MountainCarEnvironment\n",
    "    # Input: agent for the MountainCarEnvironment\n",
    "    # Output: MountainCarEnvironment object\n",
    "    def __init__(self, car):\n",
    "        self.car = car\n",
    "        self.reset()\n",
    "        \n",
    "    # Compute next state (feature)\n",
    "    # Output: (new velocity, new position)\n",
    "    def nextState(self):\n",
    "        # Get current state (velocity, position) and the action chosen by the agent\n",
    "        velocity = self.car.state[0]\n",
    "        position = self.car.state[1]\n",
    "        action = self.car.doAction()\n",
    "        \n",
    "        # Calculate the new velocity and new position\n",
    "        velocity += action * 0.001 + math.cos(3*position) * -0.0025\n",
    "        position += + velocity\n",
    "        \n",
    "        new_state = (velocity, position)\n",
    "        return(new_state)\n",
    "    \n",
    "    # Reset to the initial state    \n",
    "    def reset(self):\n",
    "        self.car.state[0] = 0.0\n",
    "        self.car.state[1] = -0.5\n",
    "        \n",
    "    # Give reward for each of the chosen action, depending on what the next state that the agent end up in\n",
    "    # Output: terminal state = 0, non-terminal state = -1\n",
    "    def calculateReward(self):\n",
    "        # Get current position of the agent\n",
    "        position = self.car.state[1]\n",
    "        \n",
    "        # Determine the reward given\n",
    "        if (position >= 0.6):\n",
    "            return(0)\n",
    "        else:\n",
    "            return(-1)\n",
    "        "
   ]
  },
  {
   "cell_type": "markdown",
   "metadata": {
    "collapsed": true
   },
   "source": [
    "## Agent (Car)"
   ]
  },
  {
   "cell_type": "code",
   "execution_count": null,
   "metadata": {
    "collapsed": true
   },
   "outputs": [],
   "source": [
    "class Agent:\n",
    "    '''Implementation of agent (car) that will be used in the Mountain Car Environment'''\n",
    "    initial_velocity = 0.0\n",
    "    initial_position = -0.5\n",
    "    \n",
    "    # Constructor\n",
    "    # Input: algorithm (class of algorithm that are used as the based method for our agent)\n",
    "    def __init__(self, algorithm):\n",
    "        self.state = [initial_velocity, initial_position]\n",
    "        self.algorithm = algorithm\n",
    "    \n",
    "    # Allow car to choose action\n",
    "    # Output: -1 (left), 0 (neutral), 1 (right)\n",
    "    def doAction(self):\n",
    "        # TODO: epsilon greedy method for choosing action. For now, just always choose right\n",
    "        return(1)"
   ]
  },
  {
   "cell_type": "markdown",
   "metadata": {},
   "source": [
    "## kNN Algorithm"
   ]
  },
  {
   "cell_type": "code",
   "execution_count": null,
   "metadata": {
    "collapsed": true
   },
   "outputs": [],
   "source": [
    "class KNN:\n",
    "    '''Using the kNN TD algorithm approach'''\n",
    "    \n",
    "    # Constructor\n",
    "    # Input: the number of k-neighbours, size of the stored Q value\n",
    "    def __init__(self, k, size):\n",
    "        self.k = k\n",
    "        self.q_storage = []\n",
    "    \n",
    "    "
   ]
  }
 ],
 "metadata": {
  "kernelspec": {
   "display_name": "Python 3",
   "language": "python",
   "name": "python3"
  },
  "language_info": {
   "codemirror_mode": {
    "name": "ipython",
    "version": 3
   },
   "file_extension": ".py",
   "mimetype": "text/x-python",
   "name": "python",
   "nbconvert_exporter": "python",
   "pygments_lexer": "ipython3",
   "version": "3.6.0"
  }
 },
 "nbformat": 4,
 "nbformat_minor": 2
}
